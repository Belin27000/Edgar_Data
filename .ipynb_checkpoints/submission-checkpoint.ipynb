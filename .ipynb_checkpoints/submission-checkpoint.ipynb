{
 "cells": [
  {
   "cell_type": "code",
   "execution_count": 20,
   "id": "df80afde-ebda-4dde-b331-ea07642dd6f1",
   "metadata": {},
   "outputs": [],
   "source": [
    "import pandas as pd\n",
    "import requests\n",
    "from ipynb.fs.full.edgar_functions import *"
   ]
  },
  {
   "cell_type": "code",
   "execution_count": 78,
   "id": "e88129c1-4ecd-4714-8567-e49e460e9b7a",
   "metadata": {},
   "outputs": [],
   "source": [
    "ticker =\"BRK-A\""
   ]
  },
  {
   "cell_type": "code",
   "execution_count": 80,
   "id": "5955ec10-31be-4a90-94ea-78afb07afbc8",
   "metadata": {},
   "outputs": [
    {
     "data": {
      "text/plain": [
       "'0001067983'"
      ]
     },
     "execution_count": 80,
     "metadata": {},
     "output_type": "execute_result"
    }
   ],
   "source": [
    "cik_matching_ticker(ticker)"
   ]
  },
  {
   "cell_type": "code",
   "execution_count": 82,
   "id": "9f3f5dc3-ec5c-4f74-b915-da8117a4b296",
   "metadata": {},
   "outputs": [],
   "source": [
    "def get_submission_data_for_ticker(ticker, headers=headers, only_filings_df=False):\n",
    "    cik=cik_matching_ticker(ticker)\n",
    "    url = f\"https://data.sec.gov/submissions/CIK{cik}.json\"\n",
    "    company_json = requests.get(url, headers=headers).json()\n",
    "    if only_filings_df:\n",
    "        return pd.DataFrame(company_json['filings']['recent'])\n",
    "    return company_json"
   ]
  },
  {
   "cell_type": "code",
   "execution_count": 84,
   "id": "133856af-76e7-452e-afec-5dfa8c7f682c",
   "metadata": {},
   "outputs": [],
   "source": [
    "data = get_submission_data_for_ticker(ticker, only_filings_df=False)"
   ]
  },
  {
   "cell_type": "code",
   "execution_count": 85,
   "id": "519a1d18-1d50-49e0-9a0d-f1cda4a1fe9c",
   "metadata": {},
   "outputs": [
    {
     "data": {
      "text/plain": [
       "dict_keys(['cik', 'entityType', 'sic', 'sicDescription', 'insiderTransactionForOwnerExists', 'insiderTransactionForIssuerExists', 'name', 'tickers', 'exchanges', 'ein', 'description', 'website', 'investorWebsite', 'category', 'fiscalYearEnd', 'stateOfIncorporation', 'stateOfIncorporationDescription', 'addresses', 'phone', 'flags', 'formerNames', 'filings'])"
      ]
     },
     "execution_count": 85,
     "metadata": {},
     "output_type": "execute_result"
    }
   ],
   "source": [
    "data.keys()"
   ]
  },
  {
   "cell_type": "code",
   "execution_count": 86,
   "id": "d2bd47bf-f2db-445d-b1e8-e34ad06c8c1f",
   "metadata": {},
   "outputs": [],
   "source": [
    "def get_filtered_filings(ticker, ten_k=True, just_accession_numbers=False, headers=headers):\n",
    "    company_filings_df = get_submission_data_for_ticker(ticker, only_filings_df=True, headers=headers)\n",
    "    if ten_k:\n",
    "        df = company_filings_df[company_filings_df['form'] == '10-K']\n",
    "    else:\n",
    "        df = company_filings_df[company_filings_df['form'] == '10-Q']\n",
    "    if just_accession_numbers:\n",
    "        df = df.set_index('reportDate')\n",
    "        accession_df = df['accessionNumber']\n",
    "        return accession_df\n",
    "    else:\n",
    "        return df"
   ]
  },
  {
   "cell_type": "code",
   "execution_count": 87,
   "id": "26d5b985-0013-4b32-af2d-e46058bbfcae",
   "metadata": {},
   "outputs": [],
   "source": [
    "filings = get_filtered_filings(ticker,ten_k=False, just_accession_numbers=True, headers=headers)"
   ]
  },
  {
   "cell_type": "code",
   "execution_count": 91,
   "id": "3b1edd1d-11ba-471e-8f54-9647a81b1f7b",
   "metadata": {},
   "outputs": [
    {
     "data": {
      "text/plain": [
       "reportDate\n",
       "2024-03-31    0000950170-24-053185\n",
       "2023-09-30    0000950170-23-058993\n",
       "2023-06-30    0000950170-23-038705\n",
       "2023-03-31    0000950170-23-018438\n",
       "2022-09-30    0000950170-22-022287\n",
       "2022-06-30    0001564590-22-028282\n",
       "2022-03-31    0001564590-22-016907\n",
       "2021-09-30    0001564590-21-055032\n",
       "2021-06-30    0001564590-21-042312\n",
       "2021-03-31    0001564590-21-022703\n",
       "2020-09-30    0001564590-20-052144\n",
       "2020-06-30    0001564590-20-038544\n",
       "2020-03-31    0001564590-20-020599\n",
       "2019-09-30    0000950123-19-009995\n",
       "2019-06-30    0001564590-19-028491\n",
       "2019-03-31    0001193125-19-137433\n",
       "2018-09-30    0001193125-18-317734\n",
       "2018-06-30    0001193125-18-238892\n",
       "2018-03-31    0001193125-18-153460\n",
       "2017-09-30    0001193125-17-332829\n",
       "2017-06-30    0001193125-17-248832\n",
       "2017-03-31    0001193125-17-160889\n",
       "2016-09-30    0001193125-16-760194\n",
       "2016-06-30    0001193125-16-673492\n",
       "2016-03-31    0001193125-16-582004\n",
       "2015-09-30    0001193125-15-370187\n",
       "2015-06-30    0001193125-15-283231\n",
       "2015-03-31    0001193125-15-166595\n",
       "2014-09-30    0001193125-14-403605\n",
       "2014-06-30    0001193125-14-291724\n",
       "2014-03-31    0001193125-14-180321\n",
       "Name: accessionNumber, dtype: object"
      ]
     },
     "execution_count": 91,
     "metadata": {},
     "output_type": "execute_result"
    }
   ],
   "source": [
    "filings"
   ]
  },
  {
   "cell_type": "code",
   "execution_count": null,
   "id": "2cc21eba-703d-4374-a0b2-b8ca73a1a833",
   "metadata": {},
   "outputs": [],
   "source": []
  }
 ],
 "metadata": {
  "kernelspec": {
   "display_name": "Edgar",
   "language": "python",
   "name": "edgar_env"
  },
  "language_info": {
   "codemirror_mode": {
    "name": "ipython",
    "version": 3
   },
   "file_extension": ".py",
   "mimetype": "text/x-python",
   "name": "python",
   "nbconvert_exporter": "python",
   "pygments_lexer": "ipython3",
   "version": "3.11.7"
  }
 },
 "nbformat": 4,
 "nbformat_minor": 5
}
