{
 "cells": [
  {
   "cell_type": "code",
   "execution_count": 20,
   "id": "df80afde-ebda-4dde-b331-ea07642dd6f1",
   "metadata": {},
   "outputs": [],
   "source": [
    "import pandas as pd\n",
    "import requests\n",
    "from ipynb.fs.full.edgar_functions import *"
   ]
  },
  {
   "cell_type": "code",
   "execution_count": 22,
   "id": "e88129c1-4ecd-4714-8567-e49e460e9b7a",
   "metadata": {},
   "outputs": [],
   "source": [
    "ticker =\"WSM\""
   ]
  },
  {
   "cell_type": "code",
   "execution_count": 28,
   "id": "5955ec10-31be-4a90-94ea-78afb07afbc8",
   "metadata": {},
   "outputs": [
    {
     "data": {
      "text/plain": [
       "'0000719955'"
      ]
     },
     "execution_count": 28,
     "metadata": {},
     "output_type": "execute_result"
    }
   ],
   "source": [
    "cik_matching_ticker(ticker)"
   ]
  },
  {
   "cell_type": "code",
   "execution_count": null,
   "id": "9f3f5dc3-ec5c-4f74-b915-da8117a4b296",
   "metadata": {},
   "outputs": [],
   "source": [
    "def get_submission_data_for_ticker(ticker, headers=headers, only_filling_df=False):\n",
    "    cik=cik_matching_ticker(ticker)\n",
    "    url = f\"https://data.sec.gov/submissions/CIK{cik}.json\"\n",
    "    company_json = requests.get(url, headers=headers).json()\n",
    "    if only_filling_df:\n",
    "        return pd.DataFrame(company_json['filings']['recent'])\n",
    "    return company_json\n"
   ]
  }
 ],
 "metadata": {
  "kernelspec": {
   "display_name": "Edgar",
   "language": "python",
   "name": "edgar_env"
  },
  "language_info": {
   "codemirror_mode": {
    "name": "ipython",
    "version": 3
   },
   "file_extension": ".py",
   "mimetype": "text/x-python",
   "name": "python",
   "nbconvert_exporter": "python",
   "pygments_lexer": "ipython3",
   "version": "3.11.7"
  }
 },
 "nbformat": 4,
 "nbformat_minor": 5
}
