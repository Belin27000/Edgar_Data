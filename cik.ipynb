{
 "cells": [
  {
   "cell_type": "code",
   "execution_count": 6,
   "id": "3fc5dfb4-0c27-42db-b047-563a3adbcc45",
   "metadata": {},
   "outputs": [],
   "source": [
    "import pandas as pd\n",
    "import requests"
   ]
  },
  {
   "cell_type": "code",
   "execution_count": 10,
   "id": "608aad2d-8854-4cb2-951a-fd41ba19cf1e",
   "metadata": {},
   "outputs": [],
   "source": [
    "headers = {\"User-Agent\":\"parcelles.et.terres@gmail.com\"}"
   ]
  },
  {
   "cell_type": "code",
   "execution_count": 16,
   "id": "4b0dfa17-3f2b-4866-bd62-dbbe6e36f4fb",
   "metadata": {},
   "outputs": [],
   "source": [
    "def cik_matching_ticker(ticker, headers=headers):\n",
    "    ticker = ticker.upper().replace(\".\",\"-\")\n",
    "    ticker_json=requests.get(\n",
    "        \"https://www.sec.gov/files/company_tickers.json\", headers=headers\n",
    "    ).json()\n",
    "    for company in ticker_json.values():\n",
    "        if company[\"ticker\"] ==ticker:\n",
    "            cik=str(company[\"cik_str\"]).zfill(10)\n",
    "            return cik\n",
    "    raise ValueError(f\"Ticker {ticker} not found in SEC database\")"
   ]
  },
  {
   "cell_type": "code",
   "execution_count": 20,
   "id": "2e5f8132-9324-400f-9e15-ef2f722f8d4c",
   "metadata": {},
   "outputs": [
    {
     "data": {
      "text/plain": [
       "'0000719955'"
      ]
     },
     "execution_count": 20,
     "metadata": {},
     "output_type": "execute_result"
    }
   ],
   "source": [
    "cik_matching_ticker(\"wsm\")"
   ]
  }
 ],
 "metadata": {
  "kernelspec": {
   "display_name": "Edgar",
   "language": "python",
   "name": "edgar_env"
  },
  "language_info": {
   "codemirror_mode": {
    "name": "ipython",
    "version": 3
   },
   "file_extension": ".py",
   "mimetype": "text/x-python",
   "name": "python",
   "nbconvert_exporter": "python",
   "pygments_lexer": "ipython3",
   "version": "3.11.7"
  }
 },
 "nbformat": 4,
 "nbformat_minor": 5
}
