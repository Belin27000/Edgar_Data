{
 "cells": [
  {
   "cell_type": "code",
   "execution_count": 2,
   "id": "660a2ccb-0b22-413d-9dbb-961dbca99713",
   "metadata": {},
   "outputs": [],
   "source": [
    "import pandas as pd\n",
    "import requests\n",
    "from ipynb.fs.full.cik import headers"
   ]
  },
  {
   "cell_type": "code",
   "execution_count": 3,
   "id": "d412c943-c765-4996-b840-57743cccc392",
   "metadata": {},
   "outputs": [],
   "source": [
    "def cik_matching_ticker(ticker, headers=headers):\n",
    "    ticker = ticker.upper().replace(\".\", \"-\")\n",
    "    ticker_json = requests.get(\n",
    "        \"https://www.sec.gov/files/company_tickers.json\", headers=headers\n",
    "    ).json()\n",
    "\n",
    "    for company in ticker_json.values():\n",
    "        if company[\"ticker\"] == ticker:\n",
    "            cik = str(company[\"cik_str\"]).zfill(10)\n",
    "            return cik\n",
    "    raise ValueError(f\"Ticker {ticker} not found in SEC database\")"
   ]
  },
  {
   "cell_type": "code",
   "execution_count": 4,
   "id": "af37ca93-442f-4189-8e57-6cdccb284abf",
   "metadata": {},
   "outputs": [],
   "source": [
    "def get_filtered_filings(ticker, ten_k=True, just_accession_numbers=False, headers=headers):\n",
    "    company_filings_df = get_submission_data_for_ticker(ticker, only_filings_df=True, headers=headers)\n",
    "    if ten_k:\n",
    "        df = company_filings_df[company_filings_df['form'] == '10-K']\n",
    "    else:\n",
    "        df = company_filings_df[company_filings_df['form'] == '10-Q']\n",
    "    if just_accession_numbers:\n",
    "        df = df.set_index('reportDate')\n",
    "        accession_df = df['accessionNumber']\n",
    "        return accession_df\n",
    "    else:\n",
    "        return df"
   ]
  },
  {
   "cell_type": "code",
   "execution_count": null,
   "id": "d7d02028",
   "metadata": {},
   "outputs": [],
   "source": []
  }
 ],
 "metadata": {
  "kernelspec": {
   "display_name": "Edgar",
   "language": "python",
   "name": "edgar_env"
  },
  "language_info": {
   "codemirror_mode": {
    "name": "ipython",
    "version": 3
   },
   "file_extension": ".py",
   "mimetype": "text/x-python",
   "name": "python",
   "nbconvert_exporter": "python",
   "pygments_lexer": "ipython3",
   "version": "3.11.7"
  }
 },
 "nbformat": 4,
 "nbformat_minor": 5
}
